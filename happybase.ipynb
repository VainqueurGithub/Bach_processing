{
 "cells": [
  {
   "cell_type": "code",
   "execution_count": 12,
   "id": "f2a21e13",
   "metadata": {},
   "outputs": [],
   "source": [
    "import findspark\n",
    "import os\n",
    "import glob\n",
    "findspark.init()\n",
    "from pyspark import SparkContext\n",
    "from pyspark.sql import SQLContext,SparkSession"
   ]
  },
  {
   "cell_type": "code",
   "execution_count": 2,
   "id": "87456b4e",
   "metadata": {},
   "outputs": [
    {
     "name": "stderr",
     "output_type": "stream",
     "text": [
      "C:\\Spark\\python\\pyspark\\sql\\context.py:113: FutureWarning: Deprecated in 3.0.0. Use SparkSession.builder.getOrCreate() instead.\n",
      "  warnings.warn(\n"
     ]
    }
   ],
   "source": [
    "sc = SparkSession.builder.appName(\"Gas_data_ETL\").getOrCreate()\n",
    "sqlc = SQLContext(sc)"
   ]
  },
  {
   "cell_type": "code",
   "execution_count": 3,
   "id": "bfdd1a70",
   "metadata": {},
   "outputs": [],
   "source": [
    "data_source_format = 'org.apache.hadoop.hbase.spark'"
   ]
  },
  {
   "cell_type": "code",
   "execution_count": 4,
   "id": "42cccc0a",
   "metadata": {},
   "outputs": [],
   "source": [
    "df = sc.read.option(\"header\",True).csv(\"GAS DATA\")"
   ]
  },
  {
   "cell_type": "code",
   "execution_count": 5,
   "id": "2e9b8a6e",
   "metadata": {},
   "outputs": [
    {
     "name": "stdout",
     "output_type": "stream",
     "text": [
      "root\n",
      " |-- Time (s): string (nullable = true)\n",
      " |-- CO (ppm): string (nullable = true)\n",
      " |-- Humidity (%r.h.): string (nullable = true)\n",
      " |-- Temperature (C): string (nullable = true)\n",
      " |-- Flow rate (mL/min): string (nullable = true)\n",
      " |-- Heater voltage (V): string (nullable = true)\n",
      " |-- R1 (MOhm): string (nullable = true)\n",
      " |-- R2 (MOhm): string (nullable = true)\n",
      " |-- R3 (MOhm): string (nullable = true)\n",
      " |-- R4 (MOhm): string (nullable = true)\n",
      " |-- R5 (MOhm): string (nullable = true)\n",
      " |-- R6 (MOhm): string (nullable = true)\n",
      " |-- R7 (MOhm): string (nullable = true)\n",
      " |-- R8 (MOhm): string (nullable = true)\n",
      " |-- R9 (MOhm): string (nullable = true)\n",
      " |-- R10 (MOhm): string (nullable = true)\n",
      " |-- R11 (MOhm): string (nullable = true)\n",
      " |-- R12 (MOhm): string (nullable = true)\n",
      " |-- R13 (MOhm): string (nullable = true)\n",
      " |-- R14 (MOhm): string (nullable = true)\n",
      "\n"
     ]
    }
   ],
   "source": [
    "df.printSchema()"
   ]
  },
  {
   "cell_type": "code",
   "execution_count": 6,
   "id": "1a66d400",
   "metadata": {},
   "outputs": [
    {
     "name": "stdout",
     "output_type": "stream",
     "text": [
      "+--------+--------+----------------+---------------+------------------+------------------+---------+---------+---------+---------+---------+---------+---------+---------+---------+----------+----------+----------+----------+----------+\n",
      "|Time (s)|CO (ppm)|Humidity (%r.h.)|Temperature (C)|Flow rate (mL/min)|Heater voltage (V)|R1 (MOhm)|R2 (MOhm)|R3 (MOhm)|R4 (MOhm)|R5 (MOhm)|R6 (MOhm)|R7 (MOhm)|R8 (MOhm)|R9 (MOhm)|R10 (MOhm)|R11 (MOhm)|R12 (MOhm)|R13 (MOhm)|R14 (MOhm)|\n",
      "+--------+--------+----------------+---------------+------------------+------------------+---------+---------+---------+---------+---------+---------+---------+---------+---------+----------+----------+----------+----------+----------+\n",
      "|  0.0000|  0.0000|         54.6258|        25.3178|          242.5724|            0.2030|  55.1483|  72.5638|  85.3974|  40.5104|  84.9922|  76.9817|  80.5302|  62.5385|  57.9460|   68.1441|   63.9090|   62.2197|   52.4943|   64.3090|\n",
      "|  0.3100|  0.0000|         52.6300|        25.3000|          241.5326|            0.2020|  70.7619|  77.6770|  83.0507|  40.7134|  81.0192|  82.2501|  84.4791|  67.7787|  55.6241|   66.0832|   58.3260|   64.9864|   52.8453|   65.2822|\n",
      "|  0.6200|  0.0000|         52.6300|        25.3000|          241.2315|            0.2020|  68.5571|  77.6770|  79.2369|  41.4185|  81.0192|  81.5165|  77.6744|  62.5385|  56.7266|   62.3092|   65.8307|   62.2197|   52.2052|   64.8363|\n",
      "|  0.9290|  0.0000|         52.6300|        25.3000|          240.9315|            0.2010|  69.1448|  75.0345|  75.8734|  38.1853|  69.0060|  70.4390|  75.0120|  66.0689|  55.9641|   64.6599|   58.6825|   59.6018|   53.5010|   67.8952|\n",
      "|  1.2370|  0.0000|         52.6300|        25.3000|          240.6521|            0.2007|  61.4100|  69.1448|  74.5825|  38.4023|  72.4181|  64.3583|  69.0829|  62.0148|  58.7630|   63.2123|   63.4039|   58.0204|   50.9695|   64.8363|\n",
      "|  1.5460|  0.0000|         52.6300|        25.3000|          240.7572|            0.2005|  57.7304|  62.6869|  65.6318|  34.4447|  63.0524|  62.9311|  64.5292|  66.0689|  57.1512|   65.0981|   58.3260|   60.5007|   51.8624|   66.2847|\n",
      "|  1.8570|  0.0000|         52.6300|        25.3000|          240.8629|            0.2010|  53.4898|  59.2946|  59.7462|  33.8093|  57.9621|  56.0078|  60.4548|  62.9816|  55.6241|   60.5772|   58.6825|   57.6725|   51.2453|   65.8253|\n",
      "|  2.1640|  0.0000|         52.6300|        25.3000|          240.9673|            0.2000|  45.8525|  54.1535|  58.1498|  32.8980|  58.3847|  53.4887|  54.0231|  58.4235|  57.5820|   65.6318|   64.3359|   56.1889|   49.7900|   63.8761|\n",
      "|  2.4740|  0.0000|         52.6300|        25.3000|          240.9308|            0.2000|  43.1138|  49.5111|  53.8273|  31.3339|  52.1043|  51.1251|  54.7053|  66.6625|  55.9641|   60.5772|   59.4820|   57.6725|   51.2453|   64.3090|\n",
      "|  2.7840|  0.0000|         52.6300|        25.3000|          240.8617|            0.2010|  40.1270|  45.8525|  52.1786|  30.8047|  51.7661|  50.8369|  49.6787|  58.0412|  57.9460|   62.3092|   64.3359|   55.0929|   50.0533|   63.3641|\n",
      "|  3.0930|  0.0000|         52.6300|        25.3000|          240.7928|            0.2006|  37.1649|  42.4974|  48.6589|  30.0429|  48.8555|  48.1206|  50.5778|  66.0689|  55.6241|   60.1967|   58.6825|   56.1889|   50.3730|   65.8253|\n",
      "|  3.4040|  0.0000|         52.6300|        25.3000|          240.7835|            0.2000|  33.5394|  37.6686|  48.1171|  29.5550|  49.1574|  46.2396|  48.0199|  58.4235|  57.1512|   65.0981|   63.9090|   54.0991|   49.2201|   63.8761|\n",
      "|  3.7130|  0.0000|         52.6300|        25.3000|          240.8165|            0.2000|  32.1377|  33.8048|  44.8858|  28.8515|  44.6023|  43.9737|  47.4909|  62.5385|  57.1512|   60.1967|   58.3260|   54.4059|   48.9146|   63.3641|\n",
      "|  4.0220|  0.0000|         52.6300|        25.3000|          240.8495|            0.2000|  29.0583|  27.3639|  41.6090|  28.1797|  44.3527|  43.5042|  47.2542|  62.9816|  57.1512|   59.7462|   57.5565|   55.0929|   50.0533|   67.8952|\n",
      "|  4.3290|  0.0000|         52.6300|        25.3000|          240.8522|            0.2000|  25.7782|  22.1992|  40.4326|  28.6241|  45.7605|  43.5042|  45.4842|  58.0412|  55.6241|   60.5772|   62.9890|   53.4361|   47.2986|   63.3641|\n",
      "|  4.6390|  0.0000|         52.6300|        25.3000|          240.7980|            0.2000|  22.7522|  17.2859|  35.1150|  28.0806|  44.6023|  42.8384|  45.7480|  63.5216|  56.7266|   58.1498|   57.5565|   54.7785|   48.9146|   65.2822|\n",
      "|  4.9490|  0.0000|         52.6300|        25.3000|          240.7439|            0.2000|  19.2891|  13.1196|  32.1869|  28.0806|  44.6023|  43.0443|  44.3331|  58.0412|  55.6241|   60.1967|   61.6173|   53.0811|   46.7830|   62.9436|\n",
      "|  5.2580|  0.0000|         52.6300|        25.3000|          240.6787|            0.2003|  16.0471|   9.8797|  27.8394|  27.8649|  44.8125|  41.2963|  43.6371|  60.1664|  55.9641|   57.3826|   60.3791|   51.5393|   46.7830|   62.9436|\n",
      "|  5.5670|  0.0000|         52.6300|        25.3000|          240.5286|            0.2001|  13.4807|   7.3443|  23.7229|  26.9235|  42.8332|  41.7201|  43.6371|  62.0148|  54.4980|   59.3023|   56.0760|   53.7355|   46.7830|   65.2822|\n",
      "|  5.8770|  0.0000|         52.6300|        25.3000|          240.3780|            0.2000|  10.8809|   5.5575|  20.4200|  27.6523|  43.4604|  40.2907|  42.3453|  59.2824|  53.1055|   58.5052|   60.3791|   51.2086|   46.0523|   62.9436|\n",
      "+--------+--------+----------------+---------------+------------------+------------------+---------+---------+---------+---------+---------+---------+---------+---------+---------+----------+----------+----------+----------+----------+\n",
      "only showing top 20 rows\n",
      "\n"
     ]
    }
   ],
   "source": [
    "df.show()"
   ]
  },
  {
   "cell_type": "code",
   "execution_count": 7,
   "id": "844d78c2",
   "metadata": {},
   "outputs": [],
   "source": [
    "from pyspark.sql.functions import monotonically_increasing_id\n",
    "\n",
    "# Assigning  a auto-increment id to the dataset\n",
    "df2=df.withColumn(\"id\", monotonically_increasing_id())"
   ]
  },
  {
   "cell_type": "code",
   "execution_count": 8,
   "id": "292699f1",
   "metadata": {},
   "outputs": [
    {
     "name": "stdout",
     "output_type": "stream",
     "text": [
      "+--------+--------+----------------+---------------+------------------+------------------+---------+---------+---------+---------+---------+---------+---------+---------+---------+----------+----------+----------+----------+----------+---+\n",
      "|Time (s)|CO (ppm)|Humidity (%r.h.)|Temperature (C)|Flow rate (mL/min)|Heater voltage (V)|R1 (MOhm)|R2 (MOhm)|R3 (MOhm)|R4 (MOhm)|R5 (MOhm)|R6 (MOhm)|R7 (MOhm)|R8 (MOhm)|R9 (MOhm)|R10 (MOhm)|R11 (MOhm)|R12 (MOhm)|R13 (MOhm)|R14 (MOhm)|id |\n",
      "+--------+--------+----------------+---------------+------------------+------------------+---------+---------+---------+---------+---------+---------+---------+---------+---------+----------+----------+----------+----------+----------+---+\n",
      "|0.0000  |0.0000  |54.6258         |25.3178        |242.5724          |0.2030            |55.1483  |72.5638  |85.3974  |40.5104  |84.9922  |76.9817  |80.5302  |62.5385  |57.9460  |68.1441   |63.9090   |62.2197   |52.4943   |64.3090   |0  |\n",
      "|0.3100  |0.0000  |52.6300         |25.3000        |241.5326          |0.2020            |70.7619  |77.6770  |83.0507  |40.7134  |81.0192  |82.2501  |84.4791  |67.7787  |55.6241  |66.0832   |58.3260   |64.9864   |52.8453   |65.2822   |1  |\n",
      "|0.6200  |0.0000  |52.6300         |25.3000        |241.2315          |0.2020            |68.5571  |77.6770  |79.2369  |41.4185  |81.0192  |81.5165  |77.6744  |62.5385  |56.7266  |62.3092   |65.8307   |62.2197   |52.2052   |64.8363   |2  |\n",
      "|0.9290  |0.0000  |52.6300         |25.3000        |240.9315          |0.2010            |69.1448  |75.0345  |75.8734  |38.1853  |69.0060  |70.4390  |75.0120  |66.0689  |55.9641  |64.6599   |58.6825   |59.6018   |53.5010   |67.8952   |3  |\n",
      "|1.2370  |0.0000  |52.6300         |25.3000        |240.6521          |0.2007            |61.4100  |69.1448  |74.5825  |38.4023  |72.4181  |64.3583  |69.0829  |62.0148  |58.7630  |63.2123   |63.4039   |58.0204   |50.9695   |64.8363   |4  |\n",
      "|1.5460  |0.0000  |52.6300         |25.3000        |240.7572          |0.2005            |57.7304  |62.6869  |65.6318  |34.4447  |63.0524  |62.9311  |64.5292  |66.0689  |57.1512  |65.0981   |58.3260   |60.5007   |51.8624   |66.2847   |5  |\n",
      "|1.8570  |0.0000  |52.6300         |25.3000        |240.8629          |0.2010            |53.4898  |59.2946  |59.7462  |33.8093  |57.9621  |56.0078  |60.4548  |62.9816  |55.6241  |60.5772   |58.6825   |57.6725   |51.2453   |65.8253   |6  |\n",
      "|2.1640  |0.0000  |52.6300         |25.3000        |240.9673          |0.2000            |45.8525  |54.1535  |58.1498  |32.8980  |58.3847  |53.4887  |54.0231  |58.4235  |57.5820  |65.6318   |64.3359   |56.1889   |49.7900   |63.8761   |7  |\n",
      "|2.4740  |0.0000  |52.6300         |25.3000        |240.9308          |0.2000            |43.1138  |49.5111  |53.8273  |31.3339  |52.1043  |51.1251  |54.7053  |66.6625  |55.9641  |60.5772   |59.4820   |57.6725   |51.2453   |64.3090   |8  |\n",
      "|2.7840  |0.0000  |52.6300         |25.3000        |240.8617          |0.2010            |40.1270  |45.8525  |52.1786  |30.8047  |51.7661  |50.8369  |49.6787  |58.0412  |57.9460  |62.3092   |64.3359   |55.0929   |50.0533   |63.3641   |9  |\n",
      "|3.0930  |0.0000  |52.6300         |25.3000        |240.7928          |0.2006            |37.1649  |42.4974  |48.6589  |30.0429  |48.8555  |48.1206  |50.5778  |66.0689  |55.6241  |60.1967   |58.6825   |56.1889   |50.3730   |65.8253   |10 |\n",
      "|3.4040  |0.0000  |52.6300         |25.3000        |240.7835          |0.2000            |33.5394  |37.6686  |48.1171  |29.5550  |49.1574  |46.2396  |48.0199  |58.4235  |57.1512  |65.0981   |63.9090   |54.0991   |49.2201   |63.8761   |11 |\n",
      "|3.7130  |0.0000  |52.6300         |25.3000        |240.8165          |0.2000            |32.1377  |33.8048  |44.8858  |28.8515  |44.6023  |43.9737  |47.4909  |62.5385  |57.1512  |60.1967   |58.3260   |54.4059   |48.9146   |63.3641   |12 |\n",
      "|4.0220  |0.0000  |52.6300         |25.3000        |240.8495          |0.2000            |29.0583  |27.3639  |41.6090  |28.1797  |44.3527  |43.5042  |47.2542  |62.9816  |57.1512  |59.7462   |57.5565   |55.0929   |50.0533   |67.8952   |13 |\n",
      "|4.3290  |0.0000  |52.6300         |25.3000        |240.8522          |0.2000            |25.7782  |22.1992  |40.4326  |28.6241  |45.7605  |43.5042  |45.4842  |58.0412  |55.6241  |60.5772   |62.9890   |53.4361   |47.2986   |63.3641   |14 |\n",
      "|4.6390  |0.0000  |52.6300         |25.3000        |240.7980          |0.2000            |22.7522  |17.2859  |35.1150  |28.0806  |44.6023  |42.8384  |45.7480  |63.5216  |56.7266  |58.1498   |57.5565   |54.7785   |48.9146   |65.2822   |15 |\n",
      "|4.9490  |0.0000  |52.6300         |25.3000        |240.7439          |0.2000            |19.2891  |13.1196  |32.1869  |28.0806  |44.6023  |43.0443  |44.3331  |58.0412  |55.6241  |60.1967   |61.6173   |53.0811   |46.7830   |62.9436   |16 |\n",
      "|5.2580  |0.0000  |52.6300         |25.3000        |240.6787          |0.2003            |16.0471  |9.8797   |27.8394  |27.8649  |44.8125  |41.2963  |43.6371  |60.1664  |55.9641  |57.3826   |60.3791   |51.5393   |46.7830   |62.9436   |17 |\n",
      "|5.5670  |0.0000  |52.6300         |25.3000        |240.5286          |0.2001            |13.4807  |7.3443   |23.7229  |26.9235  |42.8332  |41.7201  |43.6371  |62.0148  |54.4980  |59.3023   |56.0760   |53.7355   |46.7830   |65.2822   |18 |\n",
      "|5.8770  |0.0000  |52.6300         |25.3000        |240.3780          |0.2000            |10.8809  |5.5575   |20.4200  |27.6523  |43.4604  |40.2907  |42.3453  |59.2824  |53.1055  |58.5052   |60.3791   |51.2086   |46.0523   |62.9436   |19 |\n",
      "+--------+--------+----------------+---------------+------------------+------------------+---------+---------+---------+---------+---------+---------+---------+---------+---------+----------+----------+----------+----------+----------+---+\n",
      "only showing top 20 rows\n",
      "\n"
     ]
    }
   ],
   "source": [
    "df2.show(truncate=False)"
   ]
  },
  {
   "cell_type": "code",
   "execution_count": 9,
   "id": "c06c391f",
   "metadata": {},
   "outputs": [],
   "source": [
    "#Saving the frame in csv files\n",
    "df2.write.format(\"csv\").save(\"all_gaz_data\")"
   ]
  },
  {
   "cell_type": "code",
   "execution_count": 10,
   "id": "fb2277e0",
   "metadata": {},
   "outputs": [],
   "source": [
    "from starbase import Connection"
   ]
  },
  {
   "cell_type": "code",
   "execution_count": 21,
   "id": "f0915425",
   "metadata": {
    "scrolled": true
   },
   "outputs": [
    {
     "name": "stdout",
     "output_type": "stream",
     "text": [
      "Connect to HBase. table name: gaz_data, batch size: 1000\n",
      "Connected to file. name: all_gaz_data\\part-00000-6ee4aa9b-ba89-4776-b598-0cc25375cadc-c000.csv\n",
      "Connected to file. name: all_gaz_data\\part-00001-6ee4aa9b-ba89-4776-b598-0cc25375cadc-c000.csv\n",
      "Connected to file. name: all_gaz_data\\part-00002-6ee4aa9b-ba89-4776-b598-0cc25375cadc-c000.csv\n",
      "Connected to file. name: all_gaz_data\\part-00003-6ee4aa9b-ba89-4776-b598-0cc25375cadc-c000.csv\n",
      "Connected to file. name: all_gaz_data\\part-00004-6ee4aa9b-ba89-4776-b598-0cc25375cadc-c000.csv\n",
      "Connected to file. name: all_gaz_data\\part-00005-6ee4aa9b-ba89-4776-b598-0cc25375cadc-c000.csv\n",
      "Connected to file. name: all_gaz_data\\part-00006-6ee4aa9b-ba89-4776-b598-0cc25375cadc-c000.csv\n",
      "Connected to file. name: all_gaz_data\\part-00007-6ee4aa9b-ba89-4776-b598-0cc25375cadc-c000.csv\n",
      "Connected to file. name: all_gaz_data\\part-00008-6ee4aa9b-ba89-4776-b598-0cc25375cadc-c000.csv\n",
      "Connected to file. name: all_gaz_data\\part-00009-6ee4aa9b-ba89-4776-b598-0cc25375cadc-c000.csv\n",
      "Connected to file. name: all_gaz_data\\part-00010-6ee4aa9b-ba89-4776-b598-0cc25375cadc-c000.csv\n",
      "Connected to file. name: all_gaz_data\\part-00011-6ee4aa9b-ba89-4776-b598-0cc25375cadc-c000.csv\n",
      "Connected to file. name: all_gaz_data\\part-00012-6ee4aa9b-ba89-4776-b598-0cc25375cadc-c000.csv\n"
     ]
    },
    {
     "ename": "KeyboardInterrupt",
     "evalue": "",
     "output_type": "error",
     "traceback": [
      "\u001b[1;31m---------------------------------------------------------------------------\u001b[0m",
      "\u001b[1;31mKeyboardInterrupt\u001b[0m                         Traceback (most recent call last)",
      "Cell \u001b[1;32mIn[21], line 75\u001b[0m\n\u001b[0;32m     73\u001b[0m         \u001b[38;5;28;01mpass\u001b[39;00m\n\u001b[0;32m     74\u001b[0m     \u001b[38;5;28;01melse\u001b[39;00m:\n\u001b[1;32m---> 75\u001b[0m         insert_row(batch, row)\n\u001b[0;32m     77\u001b[0m \u001b[38;5;66;03m# If there are any leftover rows in the batch, send them now.\u001b[39;00m\n\u001b[0;32m     78\u001b[0m batch\u001b[38;5;241m.\u001b[39msend()\n",
      "Cell \u001b[1;32mIn[21], line 43\u001b[0m, in \u001b[0;36minsert_row\u001b[1;34m(batch, row)\u001b[0m\n\u001b[0;32m     35\u001b[0m \u001b[38;5;28;01mdef\u001b[39;00m \u001b[38;5;21minsert_row\u001b[39m(batch, row):\n\u001b[0;32m     36\u001b[0m \u001b[38;5;250m    \u001b[39m\u001b[38;5;124;03m\"\"\" Insert a row into HBase.\u001b[39;00m\n\u001b[0;32m     37\u001b[0m \u001b[38;5;124;03m    Write the row to the batch. When the batch size is reached, rows will be\u001b[39;00m\n\u001b[0;32m     38\u001b[0m \u001b[38;5;124;03m    sent to the database.\u001b[39;00m\n\u001b[1;32m   (...)\u001b[0m\n\u001b[0;32m     41\u001b[0m \u001b[38;5;124;03m          opened, closed, status, origin, location ]\u001b[39;00m\n\u001b[0;32m     42\u001b[0m \u001b[38;5;124;03m    \"\"\"\u001b[39;00m\n\u001b[1;32m---> 43\u001b[0m     batch\u001b[38;5;241m.\u001b[39mput(row[\u001b[38;5;241m20\u001b[39m], { \u001b[38;5;124m\"\u001b[39m\u001b[38;5;124mMesurement:time\u001b[39m\u001b[38;5;124m\"\u001b[39m: row[\u001b[38;5;241m0\u001b[39m], \u001b[38;5;124m\"\u001b[39m\u001b[38;5;124mMesurement:co\u001b[39m\u001b[38;5;124m\"\u001b[39m: row[\u001b[38;5;241m1\u001b[39m], \u001b[38;5;124m\"\u001b[39m\u001b[38;5;124mMesurement:Temperature\u001b[39m\u001b[38;5;124m\"\u001b[39m: row[\u001b[38;5;241m2\u001b[39m],\n\u001b[0;32m     44\u001b[0m         \u001b[38;5;124m\"\u001b[39m\u001b[38;5;124mMesurement:Humidity\u001b[39m\u001b[38;5;124m\"\u001b[39m: row[\u001b[38;5;241m3\u001b[39m], \u001b[38;5;124m\"\u001b[39m\u001b[38;5;124mMesurement:Heater_voltage\u001b[39m\u001b[38;5;124m\"\u001b[39m: row[\u001b[38;5;241m4\u001b[39m], \u001b[38;5;124m\"\u001b[39m\u001b[38;5;124mMesurement:Flow_rate\u001b[39m\u001b[38;5;124m\"\u001b[39m: row[\u001b[38;5;241m5\u001b[39m],\n\u001b[0;32m     45\u001b[0m         \u001b[38;5;124m\"\u001b[39m\u001b[38;5;124mFIGARO TGS 3870 A-04:R1\u001b[39m\u001b[38;5;124m\"\u001b[39m: row[\u001b[38;5;241m6\u001b[39m], \u001b[38;5;124m\"\u001b[39m\u001b[38;5;124mFIGARO TGS 3870 A-04:R2\u001b[39m\u001b[38;5;124m\"\u001b[39m: row[\u001b[38;5;241m7\u001b[39m], \u001b[38;5;124m\"\u001b[39m\u001b[38;5;124mFIGARO TGS 3870 A-04:R3\u001b[39m\u001b[38;5;124m\"\u001b[39m: row[\u001b[38;5;241m8\u001b[39m],\n\u001b[0;32m     46\u001b[0m         \u001b[38;5;124m\"\u001b[39m\u001b[38;5;124mFIGARO TGS 3870 A-04:R4\u001b[39m\u001b[38;5;124m\"\u001b[39m: row[\u001b[38;5;241m9\u001b[39m], \u001b[38;5;124m\"\u001b[39m\u001b[38;5;124mFIGARO TGS 3870 A-04:R5\u001b[39m\u001b[38;5;124m\"\u001b[39m: row[\u001b[38;5;241m10\u001b[39m], \u001b[38;5;124m\"\u001b[39m\u001b[38;5;124mFIGARO TGS 3870 A-04:R6\u001b[39m\u001b[38;5;124m\"\u001b[39m: row[\u001b[38;5;241m11\u001b[39m],\n\u001b[0;32m     47\u001b[0m         \u001b[38;5;124m\"\u001b[39m\u001b[38;5;124mFIGARO TGS 3870 A-04:R7\u001b[39m\u001b[38;5;124m\"\u001b[39m: row[\u001b[38;5;241m12\u001b[39m], \u001b[38;5;124m\"\u001b[39m\u001b[38;5;124mFIS SB-500-12:R8\u001b[39m\u001b[38;5;124m\"\u001b[39m: row[\u001b[38;5;241m13\u001b[39m], \u001b[38;5;124m\"\u001b[39m\u001b[38;5;124mFIS SB-500-12:R9\u001b[39m\u001b[38;5;124m\"\u001b[39m: row[\u001b[38;5;241m14\u001b[39m],\n\u001b[0;32m     48\u001b[0m         \u001b[38;5;124m\"\u001b[39m\u001b[38;5;124mFIS SB-500-12:R10\u001b[39m\u001b[38;5;124m\"\u001b[39m: row[\u001b[38;5;241m15\u001b[39m], \u001b[38;5;124m\"\u001b[39m\u001b[38;5;124mFIS SB-500-12:R11\u001b[39m\u001b[38;5;124m\"\u001b[39m: row[\u001b[38;5;241m16\u001b[39m], \u001b[38;5;124m\"\u001b[39m\u001b[38;5;124mFIS SB-500-12:R12\u001b[39m\u001b[38;5;124m\"\u001b[39m: row[\u001b[38;5;241m17\u001b[39m],\n\u001b[0;32m     49\u001b[0m         \u001b[38;5;124m\"\u001b[39m\u001b[38;5;124mFIS SB-500-12:R13\u001b[39m\u001b[38;5;124m\"\u001b[39m: row[\u001b[38;5;241m18\u001b[39m], \u001b[38;5;124m\"\u001b[39m\u001b[38;5;124mFIS SB-500-12:R14\u001b[39m\u001b[38;5;124m\"\u001b[39m: row[\u001b[38;5;241m19\u001b[39m]})\n",
      "File \u001b[1;32m~\\anaconda3\\Lib\\site-packages\\happybase\\batch.py:92\u001b[0m, in \u001b[0;36mBatch.put\u001b[1;34m(self, row, data, wal)\u001b[0m\n\u001b[0;32m     90\u001b[0m \u001b[38;5;28mself\u001b[39m\u001b[38;5;241m.\u001b[39m_mutation_count \u001b[38;5;241m+\u001b[39m\u001b[38;5;241m=\u001b[39m \u001b[38;5;28mlen\u001b[39m(data)\n\u001b[0;32m     91\u001b[0m \u001b[38;5;28;01mif\u001b[39;00m \u001b[38;5;28mself\u001b[39m\u001b[38;5;241m.\u001b[39m_batch_size \u001b[38;5;129;01mand\u001b[39;00m \u001b[38;5;28mself\u001b[39m\u001b[38;5;241m.\u001b[39m_mutation_count \u001b[38;5;241m>\u001b[39m\u001b[38;5;241m=\u001b[39m \u001b[38;5;28mself\u001b[39m\u001b[38;5;241m.\u001b[39m_batch_size:\n\u001b[1;32m---> 92\u001b[0m     \u001b[38;5;28mself\u001b[39m\u001b[38;5;241m.\u001b[39msend()\n",
      "File \u001b[1;32m~\\anaconda3\\Lib\\site-packages\\happybase\\batch.py:60\u001b[0m, in \u001b[0;36mBatch.send\u001b[1;34m(self)\u001b[0m\n\u001b[0;32m     57\u001b[0m logger\u001b[38;5;241m.\u001b[39mdebug(\u001b[38;5;124m\"\u001b[39m\u001b[38;5;124mSending batch for \u001b[39m\u001b[38;5;124m'\u001b[39m\u001b[38;5;132;01m%s\u001b[39;00m\u001b[38;5;124m'\u001b[39m\u001b[38;5;124m (\u001b[39m\u001b[38;5;132;01m%d\u001b[39;00m\u001b[38;5;124m mutations on \u001b[39m\u001b[38;5;132;01m%d\u001b[39;00m\u001b[38;5;124m rows)\u001b[39m\u001b[38;5;124m\"\u001b[39m,\n\u001b[0;32m     58\u001b[0m              \u001b[38;5;28mself\u001b[39m\u001b[38;5;241m.\u001b[39m_table\u001b[38;5;241m.\u001b[39mname, \u001b[38;5;28mself\u001b[39m\u001b[38;5;241m.\u001b[39m_mutation_count, \u001b[38;5;28mlen\u001b[39m(bms))\n\u001b[0;32m     59\u001b[0m \u001b[38;5;28;01mif\u001b[39;00m \u001b[38;5;28mself\u001b[39m\u001b[38;5;241m.\u001b[39m_timestamp \u001b[38;5;129;01mis\u001b[39;00m \u001b[38;5;28;01mNone\u001b[39;00m:\n\u001b[1;32m---> 60\u001b[0m     \u001b[38;5;28mself\u001b[39m\u001b[38;5;241m.\u001b[39m_table\u001b[38;5;241m.\u001b[39mconnection\u001b[38;5;241m.\u001b[39mclient\u001b[38;5;241m.\u001b[39mmutateRows(\u001b[38;5;28mself\u001b[39m\u001b[38;5;241m.\u001b[39m_table\u001b[38;5;241m.\u001b[39mname, bms, {})\n\u001b[0;32m     61\u001b[0m \u001b[38;5;28;01melse\u001b[39;00m:\n\u001b[0;32m     62\u001b[0m     \u001b[38;5;28mself\u001b[39m\u001b[38;5;241m.\u001b[39m_table\u001b[38;5;241m.\u001b[39mconnection\u001b[38;5;241m.\u001b[39mclient\u001b[38;5;241m.\u001b[39mmutateRowsTs(\n\u001b[0;32m     63\u001b[0m         \u001b[38;5;28mself\u001b[39m\u001b[38;5;241m.\u001b[39m_table\u001b[38;5;241m.\u001b[39mname, bms, \u001b[38;5;28mself\u001b[39m\u001b[38;5;241m.\u001b[39m_timestamp, {})\n",
      "File \u001b[1;32m~\\anaconda3\\Lib\\site-packages\\thriftpy2\\thrift.py:219\u001b[0m, in \u001b[0;36mTClient._req\u001b[1;34m(self, _api, *args, **kwargs)\u001b[0m\n\u001b[0;32m    217\u001b[0m \u001b[38;5;66;03m# wait result only if non-oneway\u001b[39;00m\n\u001b[0;32m    218\u001b[0m \u001b[38;5;28;01mif\u001b[39;00m \u001b[38;5;129;01mnot\u001b[39;00m \u001b[38;5;28mgetattr\u001b[39m(result_cls, \u001b[38;5;124m\"\u001b[39m\u001b[38;5;124moneway\u001b[39m\u001b[38;5;124m\"\u001b[39m):\n\u001b[1;32m--> 219\u001b[0m     \u001b[38;5;28;01mreturn\u001b[39;00m \u001b[38;5;28mself\u001b[39m\u001b[38;5;241m.\u001b[39m_recv(_api)\n",
      "File \u001b[1;32m~\\anaconda3\\Lib\\site-packages\\thriftpy2\\thrift.py:231\u001b[0m, in \u001b[0;36mTClient._recv\u001b[1;34m(self, _api)\u001b[0m\n\u001b[0;32m    230\u001b[0m \u001b[38;5;28;01mdef\u001b[39;00m \u001b[38;5;21m_recv\u001b[39m(\u001b[38;5;28mself\u001b[39m, _api):\n\u001b[1;32m--> 231\u001b[0m     fname, mtype, rseqid \u001b[38;5;241m=\u001b[39m \u001b[38;5;28mself\u001b[39m\u001b[38;5;241m.\u001b[39m_iprot\u001b[38;5;241m.\u001b[39mread_message_begin()\n\u001b[0;32m    232\u001b[0m     \u001b[38;5;28;01mif\u001b[39;00m mtype \u001b[38;5;241m==\u001b[39m TMessageType\u001b[38;5;241m.\u001b[39mEXCEPTION:\n\u001b[0;32m    233\u001b[0m         x \u001b[38;5;241m=\u001b[39m TApplicationException()\n",
      "File \u001b[1;32m~\\anaconda3\\Lib\\site-packages\\thriftpy2\\protocol\\binary.py:393\u001b[0m, in \u001b[0;36mTBinaryProtocol.read_message_begin\u001b[1;34m(self)\u001b[0m\n\u001b[0;32m    392\u001b[0m \u001b[38;5;28;01mdef\u001b[39;00m \u001b[38;5;21mread_message_begin\u001b[39m(\u001b[38;5;28mself\u001b[39m):\n\u001b[1;32m--> 393\u001b[0m     api, ttype, seqid \u001b[38;5;241m=\u001b[39m read_message_begin(\n\u001b[0;32m    394\u001b[0m         \u001b[38;5;28mself\u001b[39m\u001b[38;5;241m.\u001b[39mtrans, strict\u001b[38;5;241m=\u001b[39m\u001b[38;5;28mself\u001b[39m\u001b[38;5;241m.\u001b[39mstrict_read)\n\u001b[0;32m    395\u001b[0m     \u001b[38;5;28;01mreturn\u001b[39;00m api, ttype, seqid\n",
      "File \u001b[1;32m~\\anaconda3\\Lib\\site-packages\\thriftpy2\\protocol\\binary.py:174\u001b[0m, in \u001b[0;36mread_message_begin\u001b[1;34m(inbuf, strict)\u001b[0m\n\u001b[0;32m    173\u001b[0m \u001b[38;5;28;01mdef\u001b[39;00m \u001b[38;5;21mread_message_begin\u001b[39m(inbuf, strict\u001b[38;5;241m=\u001b[39m\u001b[38;5;28;01mTrue\u001b[39;00m):\n\u001b[1;32m--> 174\u001b[0m     sz \u001b[38;5;241m=\u001b[39m unpack_i32(inbuf\u001b[38;5;241m.\u001b[39mread(\u001b[38;5;241m4\u001b[39m))\n\u001b[0;32m    175\u001b[0m     \u001b[38;5;28;01mif\u001b[39;00m sz \u001b[38;5;241m<\u001b[39m \u001b[38;5;241m0\u001b[39m:\n\u001b[0;32m    176\u001b[0m         version \u001b[38;5;241m=\u001b[39m sz \u001b[38;5;241m&\u001b[39m VERSION_MASK\n",
      "File \u001b[1;32m~\\anaconda3\\Lib\\site-packages\\thriftpy2\\transport\\base.py:60\u001b[0m, in \u001b[0;36mTTransportBase.read\u001b[1;34m(self, sz)\u001b[0m\n\u001b[0;32m     48\u001b[0m \u001b[38;5;28;01mdef\u001b[39;00m \u001b[38;5;21mread\u001b[39m(\u001b[38;5;28mself\u001b[39m, sz):\n\u001b[0;32m     49\u001b[0m \u001b[38;5;250m    \u001b[39m\u001b[38;5;124;03m\"\"\"\u001b[39;00m\n\u001b[0;32m     50\u001b[0m \u001b[38;5;124;03m    Get exactly `sz` bytes from the underlying connection.\u001b[39;00m\n\u001b[0;32m     51\u001b[0m \n\u001b[1;32m   (...)\u001b[0m\n\u001b[0;32m     58\u001b[0m \u001b[38;5;124;03m    https://github.com/Thriftpy/thriftpy2/pull/108#discussion_r355131677\u001b[39;00m\n\u001b[0;32m     59\u001b[0m \u001b[38;5;124;03m    \"\"\"\u001b[39;00m\n\u001b[1;32m---> 60\u001b[0m     \u001b[38;5;28;01mreturn\u001b[39;00m readall(\u001b[38;5;28mself\u001b[39m\u001b[38;5;241m.\u001b[39m_read, sz)\n",
      "File \u001b[1;32m~\\anaconda3\\Lib\\site-packages\\thriftpy2\\transport\\base.py:12\u001b[0m, in \u001b[0;36mreadall\u001b[1;34m(read_fn, sz)\u001b[0m\n\u001b[0;32m     10\u001b[0m have \u001b[38;5;241m=\u001b[39m \u001b[38;5;241m0\u001b[39m\n\u001b[0;32m     11\u001b[0m \u001b[38;5;28;01mwhile\u001b[39;00m have \u001b[38;5;241m<\u001b[39m sz:\n\u001b[1;32m---> 12\u001b[0m     chunk \u001b[38;5;241m=\u001b[39m read_fn(sz \u001b[38;5;241m-\u001b[39m have)\n\u001b[0;32m     13\u001b[0m     have \u001b[38;5;241m+\u001b[39m\u001b[38;5;241m=\u001b[39m \u001b[38;5;28mlen\u001b[39m(chunk)\n\u001b[0;32m     14\u001b[0m     buff \u001b[38;5;241m+\u001b[39m\u001b[38;5;241m=\u001b[39m chunk\n",
      "File \u001b[1;32m~\\anaconda3\\Lib\\site-packages\\thriftpy2\\transport\\buffered\\__init__.py:41\u001b[0m, in \u001b[0;36mTBufferedTransport._read\u001b[1;34m(self, sz)\u001b[0m\n\u001b[0;32m     38\u001b[0m \u001b[38;5;28;01mif\u001b[39;00m rest_len \u001b[38;5;241m==\u001b[39m \u001b[38;5;241m0\u001b[39m:\n\u001b[0;32m     39\u001b[0m     \u001b[38;5;28;01mreturn\u001b[39;00m ret\n\u001b[1;32m---> 41\u001b[0m buf \u001b[38;5;241m=\u001b[39m \u001b[38;5;28mself\u001b[39m\u001b[38;5;241m.\u001b[39m_trans\u001b[38;5;241m.\u001b[39mread(\u001b[38;5;28mmax\u001b[39m(rest_len, \u001b[38;5;28mself\u001b[39m\u001b[38;5;241m.\u001b[39m_buf_size))\n\u001b[0;32m     42\u001b[0m ret \u001b[38;5;241m=\u001b[39m ret \u001b[38;5;241m+\u001b[39m buf[:rest_len]\n\u001b[0;32m     43\u001b[0m buf \u001b[38;5;241m=\u001b[39m buf[rest_len:]\n",
      "File \u001b[1;32m~\\anaconda3\\Lib\\site-packages\\thriftpy2\\transport\\socket.py:112\u001b[0m, in \u001b[0;36mTSocket.read\u001b[1;34m(self, sz)\u001b[0m\n\u001b[0;32m    110\u001b[0m \u001b[38;5;28;01mwhile\u001b[39;00m \u001b[38;5;28;01mTrue\u001b[39;00m:\n\u001b[0;32m    111\u001b[0m     \u001b[38;5;28;01mtry\u001b[39;00m:\n\u001b[1;32m--> 112\u001b[0m         buff \u001b[38;5;241m=\u001b[39m \u001b[38;5;28mself\u001b[39m\u001b[38;5;241m.\u001b[39msock\u001b[38;5;241m.\u001b[39mrecv(sz)\n\u001b[0;32m    113\u001b[0m     \u001b[38;5;28;01mexcept\u001b[39;00m socket\u001b[38;5;241m.\u001b[39merror \u001b[38;5;28;01mas\u001b[39;00m e:\n\u001b[0;32m    114\u001b[0m         \u001b[38;5;28;01mif\u001b[39;00m e\u001b[38;5;241m.\u001b[39merrno \u001b[38;5;241m==\u001b[39m errno\u001b[38;5;241m.\u001b[39mEINTR:\n",
      "\u001b[1;31mKeyboardInterrupt\u001b[0m: "
     ]
    }
   ],
   "source": [
    "\"\"\"\n",
    "Insert data into HBase with a Python script.\n",
    "We have already create a gaz_data table in hbase shell with three column familly Mesurement,FIGARO TGS 3870 A-04, \n",
    "and FIS SB-500-12\n",
    "\n",
    "Original dataset can be downloaded at kaggle following the bellow link\n",
    "https://www.kaggle.com/datasets/javi2270784/gas-sensor-array-temperature-modulation/data \n",
    "\"\"\"\n",
    "\n",
    "import csv\n",
    "import happybase\n",
    "import time\n",
    "\n",
    "batch_size = 1000\n",
    "host = \"127.0.0.1\"\n",
    "file_path = \"all_gaz_data/part-00012-3c96fcd8-695c-4a62-bdd2-1e581b6c717e-c000.csv\"\n",
    "row_count = 0\n",
    "start_time = time.time()\n",
    "table_name = \"gas_data\"\n",
    "port = 16010\n",
    "\n",
    "\n",
    "def connect_to_hbase():\n",
    "    \"\"\" Connect to HBase server.\n",
    "    This will use the host, namespace, table name, and batch size as defined in\n",
    "    the global variables above.\n",
    "    \"\"\"\n",
    "    conn = happybase.Connection(host = host, port=port)\n",
    "    conn.open()\n",
    "    table = conn.table(table_name)\n",
    "    batch = table.batch(batch_size = batch_size)\n",
    "    return conn, batch\n",
    "\n",
    "\n",
    "def insert_row(batch, row):\n",
    "    \"\"\" Insert a row into HBase.\n",
    "    Write the row to the batch. When the batch size is reached, rows will be\n",
    "    sent to the database.\n",
    "    Rows have the following schema:\n",
    "        [ id, keyword, subcategory, type, township, city, zip, council_district,\n",
    "          opened, closed, status, origin, location ]\n",
    "    \"\"\"\n",
    "    batch.put(row[20], { \"Mesurement:time\": row[0], \"Mesurement:co\": row[1], \"Mesurement:Temperature\": row[2],\n",
    "        \"Mesurement:Humidity\": row[3], \"Mesurement:Heater_voltage\": row[4], \"Mesurement:Flow_rate\": row[5],\n",
    "        \"FIGARO TGS 3870 A-04:R1\": row[6], \"FIGARO TGS 3870 A-04:R2\": row[7], \"FIGARO TGS 3870 A-04:R3\": row[8],\n",
    "        \"FIGARO TGS 3870 A-04:R4\": row[9], \"FIGARO TGS 3870 A-04:R5\": row[10], \"FIGARO TGS 3870 A-04:R6\": row[11],\n",
    "        \"FIGARO TGS 3870 A-04:R7\": row[12], \"FIS SB-500-12:R8\": row[13], \"FIS SB-500-12:R9\": row[14],\n",
    "        \"FIS SB-500-12:R10\": row[15], \"FIS SB-500-12:R11\": row[16], \"FIS SB-500-12:R12\": row[17],\n",
    "        \"FIS SB-500-12:R13\": row[18], \"FIS SB-500-12:R14\": row[19]})\n",
    "\n",
    "\n",
    "def read_csv():\n",
    "    csvfile = open(file_path, \"r\")\n",
    "    csvreader = csv.reader(csvfile)\n",
    "    return csvreader, csvfile\n",
    "\n",
    "\n",
    "# After everything has been defined, run the script.\n",
    "conn, batch = connect_to_hbase()\n",
    "print (\"Connect to HBase. table name: %s, batch size: %i\" % (table_name, batch_size))\n",
    "csvreader, csvfile = read_csv()\n",
    "print (\"Connected to file. name: %s\" % (file_path))\n",
    "\n",
    "try:\n",
    "    # Loop through the rows. The first row contains column headers, so skip that\n",
    "    # row. Insert all remaining rows into the database.\n",
    "    for row in csvreader:\n",
    "        row_count += 1\n",
    "        if row_count == 1:\n",
    "            pass\n",
    "        else:\n",
    "            insert_row(batch, row)\n",
    "\n",
    "    # If there are any leftover rows in the batch, send them now.\n",
    "    batch.send()\n",
    "finally:\n",
    "    # No matter what happens, close the file handle.\n",
    "    csvfile.close()\n",
    "    conn.close()\n",
    "\n",
    "duration = time.time() - start_time\n",
    "print (\"Done. row count: %i, duration: %.3f s\" % (row_count, duration))"
   ]
  },
  {
   "cell_type": "code",
   "execution_count": 18,
   "id": "169238df",
   "metadata": {},
   "outputs": [
    {
     "name": "stdout",
     "output_type": "stream",
     "text": [
      "all_gaz_data\\part-00000-6ee4aa9b-ba89-4776-b598-0cc25375cadc-c000.csv\n",
      "all_gaz_data\\part-00001-6ee4aa9b-ba89-4776-b598-0cc25375cadc-c000.csv\n",
      "all_gaz_data\\part-00002-6ee4aa9b-ba89-4776-b598-0cc25375cadc-c000.csv\n",
      "all_gaz_data\\part-00003-6ee4aa9b-ba89-4776-b598-0cc25375cadc-c000.csv\n",
      "all_gaz_data\\part-00004-6ee4aa9b-ba89-4776-b598-0cc25375cadc-c000.csv\n",
      "all_gaz_data\\part-00005-6ee4aa9b-ba89-4776-b598-0cc25375cadc-c000.csv\n",
      "all_gaz_data\\part-00006-6ee4aa9b-ba89-4776-b598-0cc25375cadc-c000.csv\n",
      "all_gaz_data\\part-00007-6ee4aa9b-ba89-4776-b598-0cc25375cadc-c000.csv\n",
      "all_gaz_data\\part-00008-6ee4aa9b-ba89-4776-b598-0cc25375cadc-c000.csv\n",
      "all_gaz_data\\part-00009-6ee4aa9b-ba89-4776-b598-0cc25375cadc-c000.csv\n",
      "all_gaz_data\\part-00010-6ee4aa9b-ba89-4776-b598-0cc25375cadc-c000.csv\n",
      "all_gaz_data\\part-00011-6ee4aa9b-ba89-4776-b598-0cc25375cadc-c000.csv\n",
      "all_gaz_data\\part-00012-6ee4aa9b-ba89-4776-b598-0cc25375cadc-c000.csv\n"
     ]
    }
   ],
   "source": [
    "\n",
    "\n",
    "for f in files:\n",
    "    print(f)"
   ]
  },
  {
   "cell_type": "code",
   "execution_count": null,
   "id": "62fc1282",
   "metadata": {},
   "outputs": [],
   "source": []
  }
 ],
 "metadata": {
  "kernelspec": {
   "display_name": "Python 3 (ipykernel)",
   "language": "python",
   "name": "python3"
  },
  "language_info": {
   "codemirror_mode": {
    "name": "ipython",
    "version": 3
   },
   "file_extension": ".py",
   "mimetype": "text/x-python",
   "name": "python",
   "nbconvert_exporter": "python",
   "pygments_lexer": "ipython3",
   "version": "3.11.3"
  }
 },
 "nbformat": 4,
 "nbformat_minor": 5
}
